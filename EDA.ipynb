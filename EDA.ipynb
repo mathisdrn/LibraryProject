{
 "cells": [
  {
   "attachments": {},
   "cell_type": "markdown",
   "metadata": {},
   "source": [
    "## EDA and pre-processing of books scrapped"
   ]
  },
  {
   "cell_type": "code",
   "execution_count": 39,
   "metadata": {},
   "outputs": [],
   "source": [
    "import pandas as pd\n",
    "import numpy as np\n",
    "from wordcloud import WordCloud, STOPWORDS\n",
    "from IPython import display"
   ]
  },
  {
   "cell_type": "code",
   "execution_count": 40,
   "metadata": {},
   "outputs": [
    {
     "data": {
      "text/html": [
       "<div>\n",
       "<style scoped>\n",
       "    .dataframe tbody tr th:only-of-type {\n",
       "        vertical-align: middle;\n",
       "    }\n",
       "\n",
       "    .dataframe tbody tr th {\n",
       "        vertical-align: top;\n",
       "    }\n",
       "\n",
       "    .dataframe thead th {\n",
       "        text-align: right;\n",
       "    }\n",
       "</style>\n",
       "<table border=\"1\" class=\"dataframe\">\n",
       "  <thead>\n",
       "    <tr style=\"text-align: right;\">\n",
       "      <th></th>\n",
       "      <th>title</th>\n",
       "      <th>category</th>\n",
       "      <th>rating</th>\n",
       "      <th>description</th>\n",
       "      <th>price</th>\n",
       "      <th>stock</th>\n",
       "      <th>url</th>\n",
       "      <th>cover_url</th>\n",
       "    </tr>\n",
       "  </thead>\n",
       "  <tbody>\n",
       "    <tr>\n",
       "      <th>318</th>\n",
       "      <td>Crazy Love: Overwhelmed by a Relentless God</td>\n",
       "      <td>Christian</td>\n",
       "      <td>2</td>\n",
       "      <td>Have you ever wondered if we're missing it? It...</td>\n",
       "      <td>£47.72</td>\n",
       "      <td>14</td>\n",
       "      <td>http://books.toscrape.com/catalogue/unicorn-tr...</td>\n",
       "      <td>http://books.toscrape.com/media/cache/5d/34/5d...</td>\n",
       "    </tr>\n",
       "  </tbody>\n",
       "</table>\n",
       "</div>"
      ],
      "text/plain": [
       "                                           title   category  rating  \\\n",
       "318  Crazy Love: Overwhelmed by a Relentless God  Christian       2   \n",
       "\n",
       "                                           description   price  stock  \\\n",
       "318  Have you ever wondered if we're missing it? It...  £47.72     14   \n",
       "\n",
       "                                                   url  \\\n",
       "318  http://books.toscrape.com/catalogue/unicorn-tr...   \n",
       "\n",
       "                                             cover_url  \n",
       "318  http://books.toscrape.com/media/cache/5d/34/5d...  "
      ]
     },
     "execution_count": 40,
     "metadata": {},
     "output_type": "execute_result"
    }
   ],
   "source": [
    "df = pd.read_csv('books.csv')\n",
    "df.sample()"
   ]
  },
  {
   "cell_type": "code",
   "execution_count": 41,
   "metadata": {},
   "outputs": [
    {
     "data": {
      "text/plain": [
       "title          0\n",
       "category       0\n",
       "rating         0\n",
       "description    2\n",
       "price          0\n",
       "stock          0\n",
       "url            0\n",
       "cover_url      0\n",
       "dtype: int64"
      ]
     },
     "execution_count": 41,
     "metadata": {},
     "output_type": "execute_result"
    }
   ],
   "source": [
    "# check for Nan\n",
    "df.isnull().sum()"
   ]
  },
  {
   "cell_type": "code",
   "execution_count": 42,
   "metadata": {},
   "outputs": [],
   "source": [
    "# replace Nan description with \"\"\n",
    "df['description'] = df['description'].fillna(\"\")"
   ]
  },
  {
   "attachments": {},
   "cell_type": "markdown",
   "metadata": {},
   "source": [
    "### Creating stop words list"
   ]
  },
  {
   "cell_type": "code",
   "execution_count": 69,
   "metadata": {},
   "outputs": [
    {
     "name": "stdout",
     "output_type": "stream",
     "text": [
      "[('the', 12780), ('and', 8273), ('of', 7794), ('a', 6787), ('to', 5992)]\n"
     ]
    }
   ],
   "source": [
    "# Concatenate all description from the data set\n",
    "books_desc = ' '.join(df['description']).lower()\n",
    "# Remove punctuation\n",
    "books_desc = books_desc.replace(r'[!?,.\\d()*-]+', ' ')\n",
    "# Replace double quotes when preceded or followed by a space\n",
    "books_desc = books_desc.replace(r\"(\\s)'|'(\\s)\", r\"\\1 \\2\")\n",
    "books_desc = books_desc.split()\n",
    "\n",
    "from collections import Counter\n",
    "\n",
    "counter = Counter(books_desc)\n",
    "print(counter.most_common(5))\n",
    "# 100 first most common words seems to be mostly stopwords\n",
    "\n",
    "stopwords = [pair[0] for pair in counter.most_common(100)]\n",
    "words_to_keep = ['life', 'love', 'family', 'young']\n",
    "stopwords = [word for word in stopwords if word not in words_to_keep]\n",
    "\n",
    "# Save stopwords in a file\n",
    "with open('stopwords.txt', 'w') as f:\n",
    "    for word in stopwords:\n",
    "        f.write(word + '\\n')        "
   ]
  },
  {
   "attachments": {},
   "cell_type": "markdown",
   "metadata": {},
   "source": [
    "---\n",
    "## Others / Miscellaneous\n",
    "#### Search engine trial / optimization"
   ]
  },
  {
   "cell_type": "code",
   "execution_count": 66,
   "metadata": {},
   "outputs": [
    {
     "data": {
      "text/plain": [
       "Counter({\"it's\": 2,\n",
       "         'hard': 2,\n",
       "         'to': 3,\n",
       "         'imagine': 2,\n",
       "         'a': 6,\n",
       "         'world': 2,\n",
       "         'without': 2,\n",
       "         'light': 3,\n",
       "         'in': 5,\n",
       "         'the': 6,\n",
       "         'attic': 3,\n",
       "         'this': 4,\n",
       "         'now': 2,\n",
       "         'classic': 2,\n",
       "         'collection': 2,\n",
       "         'of': 5,\n",
       "         'poetry': 2,\n",
       "         'and': 16,\n",
       "         'drawings': 2,\n",
       "         'from': 2,\n",
       "         'shel': 3,\n",
       "         'silverstein': 3,\n",
       "         'celebrates': 2,\n",
       "         'its': 2,\n",
       "         'th': 3,\n",
       "         'anniversary': 2,\n",
       "         'with': 2,\n",
       "         'special': 2,\n",
       "         'edition': 2,\n",
       "         \"silverstein's\": 2,\n",
       "         'humorous': 2,\n",
       "         'creative': 2,\n",
       "         'verse': 2,\n",
       "         'can': 2,\n",
       "         'amuse': 2,\n",
       "         'dowdiest': 2,\n",
       "         'readers': 2,\n",
       "         'lemon': 2,\n",
       "         'faced': 2,\n",
       "         'adults': 2,\n",
       "         'fidgety': 2,\n",
       "         'kids': 2,\n",
       "         'sit': 2,\n",
       "         'still': 2,\n",
       "         'read': 2,\n",
       "         'these': 2,\n",
       "         'rhythmic': 2,\n",
       "         'words': 2,\n",
       "         'laugh': 2,\n",
       "         'smile': 2,\n",
       "         'love': 2,\n",
       "         'that': 1,\n",
       "         'need': 1,\n",
       "         'proof': 1,\n",
       "         'his': 1,\n",
       "         'genius': 1,\n",
       "         'rockabyerockabye': 1,\n",
       "         'baby': 2,\n",
       "         \"treetopdon't\": 1,\n",
       "         'you': 4,\n",
       "         'know': 1,\n",
       "         'treetopis': 1,\n",
       "         'no': 1,\n",
       "         'safe': 1,\n",
       "         'place': 1,\n",
       "         'rock': 1,\n",
       "         'who': 1,\n",
       "         'put': 1,\n",
       "         'up': 1,\n",
       "         'there': 1,\n",
       "         'your': 1,\n",
       "         'cradle': 1,\n",
       "         'too': 1,\n",
       "         'i': 1,\n",
       "         'think': 1,\n",
       "         'someone': 1,\n",
       "         'down': 1,\n",
       "         \"here'sgot\": 1,\n",
       "         'it': 1,\n",
       "         'for': 1,\n",
       "         'never': 1,\n",
       "         'sounded': 1,\n",
       "         'so': 1,\n",
       "         'good': 1,\n",
       "         'more': 1})"
      ]
     },
     "execution_count": 66,
     "metadata": {},
     "output_type": "execute_result"
    }
   ],
   "source": [
    "df['keywords'] = (df['description'] + ' ' + df['title']).str.lower()\n",
    "# Replace !?.,() and digits by a space\n",
    "df['keywords'] = df['keywords'].str.replace(pat = r'[!?,.\\d()*-]+', repl = ' ', regex = True)\n",
    "# Replace double quotes when preceded or followed by a space\n",
    "df['keywords'] = df['keywords'].str.replace(pat = r\"(\\s)'|'(\\s)\", repl = r\"\\1 \\2\", regex = True)\n",
    "df['counter'] = df['keywords'].str.split().apply(lambda x: Counter(x))\n",
    "\n",
    "df['counter'][0]"
   ]
  },
  {
   "cell_type": "code",
   "execution_count": 48,
   "metadata": {},
   "outputs": [
    {
     "data": {
      "image/jpeg": "[encoded data removed]",
      "text/plain": [
       "<IPython.core.display.Image object>"
      ]
     },
     "execution_count": 48,
     "metadata": {},
     "output_type": "execute_result"
    }
   ],
   "source": [
    "# Could have been implemented in Streamlit web app through custom HTML\n",
    "display.Image(df['cover_url'][1])"
   ]
  }
 ],
 "metadata": {
  "kernelspec": {
   "display_name": "Python3_10_for_DS",
   "language": "python",
   "name": "python3"
  },
  "language_info": {
   "codemirror_mode": {
    "name": "ipython",
    "version": 3
   },
   "file_extension": ".py",
   "mimetype": "text/x-python",
   "name": "python",
   "nbconvert_exporter": "python",
   "pygments_lexer": "ipython3",
   "version": "3.10.9"
  },
  "orig_nbformat": 4
 },
 "nbformat": 4,
 "nbformat_minor": 2
}
